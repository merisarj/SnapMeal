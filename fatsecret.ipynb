{
 "cells": [
  {
   "cell_type": "code",
   "execution_count": null,
   "id": "93a0793a",
   "metadata": {},
   "outputs": [],
   "source": [
    "from PIL import Image\n",
    "from inference_sdk import InferenceHTTPClient, InferenceConfiguration\n",
    "\n",
    "CLIENT = InferenceHTTPClient(\n",
    "    api_url=\"https://serverless.roboflow.com/\",\n",
    "    api_key=\"SOS2WPF4re41QmdVH2gt\"\n",
    ")\n",
    "\n",
    "custom_config = InferenceConfiguration(confidence_threshold=0.1, iou_threshold=0.3)\n",
    "\n",
    "with CLIENT.use_configuration(custom_config):\n",
    "    your_image = Image.open(\"test/garliccloveoncounter13_jpeg_jpg.rf.37c4b653f4d37042979110a5326f8827.jpg\")\n",
    "    result = CLIENT.infer(your_image, model_id=\"food-bxkvw/3\")\n",
    "\n",
    "labels = [prediction[\"class\"] for prediction in result[\"predictions\"]]"
   ]
  },
  {
   "cell_type": "code",
   "execution_count": null,
   "id": "6202b87d",
   "metadata": {},
   "outputs": [],
   "source": [
    "import requests\n",
    "from requests.auth import HTTPBasicAuth\n",
    "\n",
    "CLIENT_ID = 'e6ce66a8cc7f4887a208bc5f2f71dfc3'\n",
    "CLIENT_SECRET = '97805a872c5a496ababe2489cb24d7d0'\n",
    "TOKEN_URL = 'https://oauth.fatsecret.com/connect/token'\n",
    "\n",
    "response = requests.post(\n",
    "    TOKEN_URL,\n",
    "    auth=HTTPBasicAuth(CLIENT_ID, CLIENT_SECRET),\n",
    "    data={'grant_type': 'client_credentials'}\n",
    ")\n",
    "\n",
    "response.raise_for_status()\n",
    "access_token = response.json().get('access_token')\n",
    "\n",
    "print(\"Access Token:\", access_token)\n"
   ]
  },
  {
   "cell_type": "code",
   "execution_count": null,
   "id": "7951a6f6",
   "metadata": {},
   "outputs": [],
   "source": [
    "SEARCH_URL = 'https://platform.fatsecret.com/rest/server.api'\n",
    "\n",
    "headers = {\n",
    "    'Authorization': f'Bearer {access_token}'\n",
    "}\n",
    "\n",
    "search_term = labels[0]\n",
    "\n",
    "params = {\n",
    "    'method': 'foods.search',\n",
    "    'format': 'json',\n",
    "    'search_expression': search_term\n",
    "}\n",
    "\n",
    "response = requests.get(SEARCH_URL, headers=headers, params=params)\n",
    "data = response.json()\n"
   ]
  },
  {
   "cell_type": "code",
   "execution_count": null,
   "id": "757d82dc",
   "metadata": {},
   "outputs": [
    {
     "name": "stdout",
     "output_type": "stream",
     "text": [
      "Food: Apples\n",
      "  Calories: 52 kcal\n",
      "  Fat: 0.17 g\n",
      "  Carbs: 13.81 g\n",
      "  Protein: 0.26 g\n",
      "\n"
     ]
    }
   ],
   "source": [
    "import re\n",
    "\n",
    "# Normalize search term (lowercase)\n",
    "base_term = search_term.lower()\n",
    "\n",
    "# Generate both singular and plural form\n",
    "if base_term.endswith('s'):\n",
    "    alt_term = base_term[:-1]\n",
    "else:\n",
    "    alt_term = base_term + 's'\n",
    "\n",
    "# Regex to match singular or plural (whole word)\n",
    "pattern = re.compile(rf'\\b({re.escape(base_term)}|{re.escape(alt_term)})\\b', re.IGNORECASE)\n",
    "\n",
    "foods = data.get('foods', {}).get('food', [])\n",
    "\n",
    "for food in foods:\n",
    "    name = food.get('food_name', 'Unknown')\n",
    "\n",
    "    # Match either form\n",
    "    if not pattern.search(name):\n",
    "        continue\n",
    "\n",
    "    desc = food.get('food_description', '')\n",
    "\n",
    "    # Extract macros\n",
    "    calories = re.search(r'Calories:\\s*([\\d\\.]+)kcal', desc)\n",
    "    fat = re.search(r'Fat:\\s*([\\d\\.]+)g', desc)\n",
    "    carbs = re.search(r'Carbs:\\s*([\\d\\.]+)g', desc)\n",
    "    protein = re.search(r'Protein:\\s*([\\d\\.]+)g', desc)\n",
    "\n",
    "    print(f\"Food: {name}\")\n",
    "    print(f\"  Calories: {calories.group(1) if calories else 'N/A'} kcal\")\n",
    "    print(f\"  Fat: {fat.group(1) if fat else 'N/A'} g\")\n",
    "    print(f\"  Carbs: {carbs.group(1) if carbs else 'N/A'} g\")\n",
    "    print(f\"  Protein: {protein.group(1) if protein else 'N/A'} g\")\n",
    "    print()\n",
    "\n",
    "    break \n"
   ]
  }
 ],
 "metadata": {
  "kernelspec": {
   "display_name": "Python 3",
   "language": "python",
   "name": "python3"
  },
  "language_info": {
   "codemirror_mode": {
    "name": "ipython",
    "version": 3
   },
   "file_extension": ".py",
   "mimetype": "text/x-python",
   "name": "python",
   "nbconvert_exporter": "python",
   "pygments_lexer": "ipython3",
   "version": "3.11.9"
  }
 },
 "nbformat": 4,
 "nbformat_minor": 5
}
